{
 "cells": [
  {
   "cell_type": "code",
   "execution_count": 4,
   "metadata": {},
   "outputs": [],
   "source": [
    "#Importando os driver para navegar pela internet#\n",
    "from selenium import webdriver\n",
    "from selenium.webdriver.common.keys import Keys\n",
    "import time\n",
    "import xlrd"
   ]
  },
  {
   "cell_type": "code",
   "execution_count": 5,
   "metadata": {},
   "outputs": [
    {
     "name": "stdout",
     "output_type": "stream",
     "text": [
      "Iniciando nosso robô...\n",
      "\n"
     ]
    }
   ],
   "source": [
    "print(\"Iniciando nosso robô...\\n\")"
   ]
  },
  {
   "cell_type": "code",
   "execution_count": 6,
   "metadata": {},
   "outputs": [
    {
     "name": "stdout",
     "output_type": "stream",
     "text": [
      "roboscompython.com.br\n",
      "udemy.com\n",
      "uol.com.br\n",
      "clickjogos.com.br\n",
      "jogosonline.com.br\n",
      "facebook.com.br\n",
      "instagram.com\n",
      "teste857.com.br\n",
      "gamesonline.com.br\n",
      "dominiodeteste.com.br\n"
     ]
    }
   ],
   "source": [
    "#Para utilizar o chrome é necessário baixar o driver na página (https://sites.google.com/a/chromium.org/chromedriver/home)#\n",
    "#e copiar o arquivo .exe na pasta do robo#\n",
    "arq = open(\"Resultado.txt\", \"w\")\n",
    "dominios = []\n",
    "# lendo do excel\n",
    "workbook = xlrd.open_workbook('dominio.xlsx')\n",
    "sheet = workbook.sheet_by_index(0)\n",
    "for linha in range(0,10):\n",
    "    for coluna in range(0,1):\n",
    "        print(sheet.cell_value(linha,coluna))\n",
    "        dominios.append(sheet.cell_value(linha,coluna))\n",
    "\n",
    "driver = webdriver.Chrome('C:/Users/HP Notebook/Desktop/Robos/chromedriver.exe')\n",
    "driver.get(\"https://registro.br/\")\n",
    "\n",
    "\n",
    "for dominio in dominios:\n",
    "    pesquisa = driver.find_element_by_id(\"is-avail-field\") #ID da barra de pesquisa\n",
    "    pesquisa.clear() #Limpando a barra de pesquisa\n",
    "    pesquisa.send_keys(dominio)\n",
    "    pesquisa.send_keys(Keys.RETURN)\n",
    "    time.sleep(2)#dormindo na página por 2 segundos\n",
    "    resultados = driver.find_elements_by_tag_name(\"strong\")\n",
    "    #import pdb; pdb.set_trace() \"\"\"Necessário para pesquisar a posição do texto que deseja trazer. Usar(resultados[].text). após encontrar o texto tirar essa parte do código utilizando '#' no inicio\"\"\"\"\"\"\n",
    "    texto = \"Domínio %s %s\\n\" % (dominio, resultados[4].text)\n",
    "    arq.write(texto)\n",
    "arq.close()\n",
    "driver.close()"
   ]
  },
  {
   "cell_type": "code",
   "execution_count": 7,
   "metadata": {},
   "outputs": [],
   "source": [
    "time.sleep(5)#dormindo na página por 2 segundos"
   ]
  },
  {
   "cell_type": "code",
   "execution_count": null,
   "metadata": {},
   "outputs": [],
   "source": []
  }
 ],
 "metadata": {
  "kernelspec": {
   "display_name": "Python 3",
   "language": "python",
   "name": "python3"
  },
  "language_info": {
   "codemirror_mode": {
    "name": "ipython",
    "version": 3
   },
   "file_extension": ".py",
   "mimetype": "text/x-python",
   "name": "python",
   "nbconvert_exporter": "python",
   "pygments_lexer": "ipython3",
   "version": "3.6.3"
  }
 },
 "nbformat": 4,
 "nbformat_minor": 2
}
